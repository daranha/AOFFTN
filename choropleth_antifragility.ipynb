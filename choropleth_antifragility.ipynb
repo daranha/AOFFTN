{
 "cells": [
  {
   "cell_type": "markdown",
   "metadata": {},
   "source": [
    "# Table of contents\n",
    "1. [Preprocess country names](#matching_countries)\n",
    "    1. [Plots Af](#plots_af)\n",
    "2. [Preprocess of countries in the gdp and pop cases](#gdp-pop_matching)\n",
    "    2. [Plots Af gdp and population](#gdp_plots)\n",
    "    2. [Plots Af distance](#distance_plots)\n"
   ]
  },
  {
   "cell_type": "code",
   "execution_count": 2,
   "metadata": {},
   "outputs": [],
   "source": [
    "%matplotlib inline\n",
    "import matplotlib.pyplot as plt\n",
    "import pandas as pd\n",
    "import numpy as np\n",
    "import geopandas as gpd\n",
    "from mpl_toolkits.axes_grid1 import make_axes_locatable\n",
    "import os\n",
    "plt.rcParams['figure.dpi']=100\n",
    "\n",
    "%config InlineBackend.figure_format = 'retina'"
   ]
  },
  {
   "cell_type": "code",
   "execution_count": 3,
   "metadata": {},
   "outputs": [
    {
     "data": {
      "text/plain": [
       "'0.8.1'"
      ]
     },
     "execution_count": 3,
     "metadata": {},
     "output_type": "execute_result"
    }
   ],
   "source": [
    "gpd.__version__"
   ]
  },
  {
   "cell_type": "markdown",
   "metadata": {},
   "source": [
    "## Preprocess country names <a name=\"matching_countries\"></a>"
   ]
  },
  {
   "cell_type": "code",
   "execution_count": 97,
   "metadata": {},
   "outputs": [],
   "source": [
    "df = pd.read_csv(\"normalization/datasets_intersection/af_food_trade_mean.csv\") \n",
    "df=df.rename(columns={'Unnamed: 0':'name'})\n",
    "\n",
    "world = gpd.read_file('world_shapefiles/Longitude_Graticules_and_World_Countries_Boundaries-shp/99bfd9e7-bb42-4728-87b5-07f8c8ac631c2020328-1-1vef4ev.lu5nk.shp')\n",
    "\n",
    "col1=df.iloc[:,0]\n",
    "col2=world.iloc[:,1]\n",
    "\n",
    "def intersection_countries(col1,col2,prin=False):\n",
    "    \n",
    "    \"\"\" Compares two columns of string values based on string values of each column\n",
    "    and returns a dictionary whose keys and values are the old and new names respectively.\n",
    "    \"\"\"\n",
    "    \n",
    "    cont=set(col1).intersection(col2)\n",
    "    comparar1=set(col1)-set(cont)\n",
    "    \n",
    "    comparar2=set(col2)-set(col1)\n",
    "    listadf_arenombrar = list(comparar1)\n",
    "    listacomparar = list(comparar2)\n",
    "    \n",
    "    oldnew={}\n",
    "    for country in listacomparar:\n",
    "        for extract_count in listadf_arenombrar:\n",
    "            if extract_count.find(country) != -1 or country.find(extract_count) !=-1:\n",
    "                if prin:\n",
    "                    print(extract_count, '------',country)\n",
    "                oldnew[extract_count] = country\n",
    "    return oldnew\n",
    "    \n",
    "oldnew=intersection_countries(col1,col2)"
   ]
  },
  {
   "cell_type": "code",
   "execution_count": 99,
   "metadata": {},
   "outputs": [],
   "source": [
    "df['name']=df['name'].replace(oldnew)"
   ]
  },
  {
   "cell_type": "code",
   "execution_count": 100,
   "metadata": {},
   "outputs": [
    {
     "name": "stdout",
     "output_type": "stream",
     "text": [
      "30\n"
     ]
    }
   ],
   "source": [
    "cont=set(df.name).intersection(world.CNTRY_NAME)\n",
    "dfleftover=set(df.name)-set(cont)\n",
    "wleftover=set(world.CNTRY_NAME.unique())-set(df.name.unique())\n",
    "print(len(dfleftover))"
   ]
  },
  {
   "cell_type": "code",
   "execution_count": 101,
   "metadata": {},
   "outputs": [
    {
     "data": {
      "text/plain": [
       "array(['Belarus', 'Belgium-Luxembourg', 'Cabo Verde',\n",
       "       'China, Hong Kong SAR', 'China, Macao SAR', \"Cote d'Ivoire\",\n",
       "       'Czechoslovakia', \"Democratic People's Republic of Korea\",\n",
       "       'Eswatini', 'Ethiopia PDR', 'Falkland Islands (Malvinas)',\n",
       "       'Holy See', 'Johnston Island', 'Korea, Rep.', 'Kyrgyz Republic',\n",
       "       'Lao PDR', 'Micronesia, Fed. Sts.', 'Palestine', 'Réunion',\n",
       "       'Saint Helena, Ascension and Tristan da Cunha',\n",
       "       'Saint Pierre and Miquelon', 'Serbia and Montenegro',\n",
       "       'Slovak Republic', 'South Sudan', 'Sudan (former)', 'Timor-Leste',\n",
       "       'US Minor Is.', 'USSR', 'Unspecified Area', 'Yugoslav SFR'],\n",
       "      dtype='<U44')"
      ]
     },
     "execution_count": 101,
     "metadata": {},
     "output_type": "execute_result"
    }
   ],
   "source": [
    "np.sort(list(dfleftover))"
   ]
  },
  {
   "cell_type": "code",
   "execution_count": 102,
   "metadata": {},
   "outputs": [
    {
     "data": {
      "text/plain": [
       "array(['Antarctica', 'Baker Island', 'Byelarus', 'Cape Verde',\n",
       "       'Falkland Islands (Islas Malvinas)',\n",
       "       'Federated States of Micronesia',\n",
       "       'French Southern & Antarctic Lands', 'Gaza Strip',\n",
       "       'Glorioso Islands', 'Guernsey', 'Heard Island & McDonald Islands',\n",
       "       'Howland Island', 'Ivory Coast', 'Jan Mayen', 'Jarvis Island',\n",
       "       'Jersey', 'Johnston Atoll', 'Juan De Nova Island', 'Kyrgyzstan',\n",
       "       'Laos', 'Macau', 'Man, Isle of', 'Norfolk Island', 'North Korea',\n",
       "       'Northern Mariana Islands', 'Paracel Islands', 'Reunion',\n",
       "       'Slovakia', 'South Georgia and the South Sandwich Is',\n",
       "       'South Korea', 'Spratly Islands', 'St. Helena',\n",
       "       'St. Pierre and Miquelon', 'Svalbard', 'Swaziland', 'Wake Island',\n",
       "       'West Bank', 'Zaire'], dtype='<U39')"
      ]
     },
     "execution_count": 102,
     "metadata": {},
     "output_type": "execute_result"
    }
   ],
   "source": [
    "np.sort(list(wleftover))"
   ]
  },
  {
   "cell_type": "markdown",
   "metadata": {},
   "source": [
    "### cherry-picking countries "
   ]
  },
  {
   "cell_type": "code",
   "execution_count": 103,
   "metadata": {},
   "outputs": [],
   "source": [
    "oldnew={'Belarus':'Byelarus','Cabo Verde':'Cape Verde','Cote d\\'Ivoir':'Ivory Coast',\\\n",
    "        'Democratic People\\'s Republic of Korea':'North Korea','Eswatini':'Swaziland',\\\n",
    "        'Falkland Islands (Malvinas)':'Falkland Islands (Islas Malvinas)','Johnston Island':'Johnston Atoll',\\\n",
    "       'Korea, Rep.':'South Korea','Kyrgyz Republic':'Kyrgyzstan','Lao PDR':'Laos',\\\n",
    "        'Micronesia, Fed. Sts.':'Federated States of Micronesia',\\\n",
    "        'Saint Pierre and Miquelon':'St. Pierre and Miquelon','Slovak Republic':'Slovakia',\\\n",
    "       }\n",
    "df['name']=df['name'].replace(oldnew)"
   ]
  },
  {
   "cell_type": "code",
   "execution_count": 104,
   "metadata": {},
   "outputs": [
    {
     "name": "stdout",
     "output_type": "stream",
     "text": [
      "18\n"
     ]
    }
   ],
   "source": [
    "cont=set(df.name).intersection(world.CNTRY_NAME)\n",
    "dfleftover=set(df.name)-set(cont)\n",
    "wleftover=set(world.CNTRY_NAME.unique())-set(df.name.unique())\n",
    "print(len(dfleftover))"
   ]
  },
  {
   "cell_type": "code",
   "execution_count": 130,
   "metadata": {},
   "outputs": [],
   "source": [
    "# df.to_csv('choropleths_af_food_trade_mean.csv',index=False) "
   ]
  },
  {
   "cell_type": "markdown",
   "metadata": {},
   "source": [
    "## Choropleths of Antifragility without considering either GDP or Population <a name=\"plots_af\"></a>"
   ]
  },
  {
   "cell_type": "code",
   "execution_count": 8,
   "metadata": {},
   "outputs": [],
   "source": [
    "df = pd.read_csv('datasets_choroplets/choropleths_af_food_trade_mean.csv')\n",
    "\n",
    "#Import shp file of the world and ignore Antarctica\n",
    "world = gpd.read_file('world_shapefiles/Longitude_Graticules_and_World_Countries_Boundaries-shp/99bfd9e7-bb42-4728-87b5-07f8c8ac631c2020328-1-1vef4ev.lu5nk.shp')\n",
    "world = world[world.CNTRY_NAME !='Antarctica']\n",
    "df.rename(columns={'name':'CNTRY_NAME'},inplace=True)\n",
    "\n",
    "world_af=pd.merge_ordered(world,df,on='CNTRY_NAME')"
   ]
  },
  {
   "cell_type": "code",
   "execution_count": 211,
   "metadata": {
    "scrolled": false
   },
   "outputs": [],
   "source": [
    "missing_kwds={\"color\": \"lightgrey\",\"edgecolor\": \"black\",\"hatch\": \"///\",\"label\": \"Missing values\"}\n",
    "\n",
    "\n",
    "for antifrag in world_af.columns[3:]:\n",
    "    \n",
    "    fig,ax = plt.subplots(figsize=(20,10))\n",
    "    divider = make_axes_locatable(ax)\n",
    "    cax = divider.append_axes(\"right\",size=\"3%\",pad=0.1)\n",
    "    \n",
    "    vmin=world_af.iloc[:,3:].min(numeric_only=True).min()\n",
    "    vmax=world_af.iloc[:,3:].max(numeric_only=True).max()\n",
    "    \n",
    "    \n",
    "    world_af.plot(column=antifrag,ax=ax,legend=True,cax=cax,missing_kwds=missing_kwds,vmin=vmin,vmax=vmax)\n",
    "    ax.set_title(antifrag,fontsize=30)\n",
    "    \n",
    "    savepath='choroplets_AF/nonormalized/'\n",
    "    if not os.path.exists(savepath):\n",
    "        os.makedirs(savepath)\n",
    "    plt.savefig(savepath+antifrag+'.png')\n",
    "    plt.close()"
   ]
  },
  {
   "cell_type": "markdown",
   "metadata": {},
   "source": [
    "## Preprocess country names, gdp and population cases <a name=\"gdp-pop_matching\"></a>"
   ]
  },
  {
   "cell_type": "code",
   "execution_count": 185,
   "metadata": {},
   "outputs": [],
   "source": [
    "df = pd.read_csv('normalization/datasets_intersection/gdp_pop_af_food_trade_percountry.csv')\n",
    "df=df.rename(columns={'Unnamed: 0':'name'})\n",
    "\n",
    "\n",
    "#Import shp file of the world and ignore Antarctica\n",
    "world = gpd.read_file('world_shapefiles/Longitude_Graticules_and_World_Countries_Boundaries-shp/99bfd9e7-bb42-4728-87b5-07f8c8ac631c2020328-1-1vef4ev.lu5nk.shp')\n",
    "world = world[world.CNTRY_NAME !='Antarctica']\n",
    "\n",
    "col1=df.iloc[:,0]\n",
    "col2=world.iloc[:,1]\n",
    "\n",
    "oldnew=intersection_countries(col1,col2)"
   ]
  },
  {
   "cell_type": "code",
   "execution_count": 186,
   "metadata": {},
   "outputs": [
    {
     "name": "stdout",
     "output_type": "stream",
     "text": [
      "20\n"
     ]
    }
   ],
   "source": [
    "df['name']=df['name'].replace(oldnew)\n",
    "cont=set(df.name).intersection(world.CNTRY_NAME)\n",
    "dfleftover=set(df.name)-set(cont)\n",
    "wleftover=set(world.CNTRY_NAME.unique())-set(df.name.unique())\n",
    "print(len(dfleftover))"
   ]
  },
  {
   "cell_type": "code",
   "execution_count": 134,
   "metadata": {},
   "outputs": [],
   "source": [
    "oldnew={'Belarus':'Byelarus','Cabo Verde':'Cape Verde','Cote d\\'Ivoir':'Ivory Coast',\\\n",
    "        'Democratic People\\'s Republic of Korea':'North Korea','Eswatini':'Swaziland',\\\n",
    "        'Falkland Islands (Malvinas)':'Falkland Islands (Islas Malvinas)','Johnston Island':'Johnston Atoll',\\\n",
    "       'Korea, Rep.':'South Korea','Kyrgyz Republic':'Kyrgyzstan','Lao PDR':'Laos',\\\n",
    "        'Micronesia, Fed. Sts.':'Federated States of Micronesia',\\\n",
    "        'Saint Pierre and Miquelon':'St. Pierre and Miquelon','Slovak Republic':'Slovakia',\\\n",
    "       }\n",
    "\n",
    "df['name']=df['name'].replace(oldnew)"
   ]
  },
  {
   "cell_type": "code",
   "execution_count": 135,
   "metadata": {},
   "outputs": [
    {
     "name": "stdout",
     "output_type": "stream",
     "text": [
      "12\n"
     ]
    }
   ],
   "source": [
    "df['name']=df['name'].replace(oldnew)\n",
    "cont=set(df.name).intersection(world.CNTRY_NAME)\n",
    "dfleftover=set(df.name)-set(cont)\n",
    "wleftover=set(world.CNTRY_NAME.unique())-set(df.name.unique())\n",
    "print(len(dfleftover))"
   ]
  },
  {
   "cell_type": "code",
   "execution_count": 137,
   "metadata": {},
   "outputs": [],
   "source": [
    "# df.to_csv('datasets_choroplets/choroplets_gdp_pop_af_food_trade_percountry.csv',index=False) "
   ]
  },
  {
   "cell_type": "markdown",
   "metadata": {},
   "source": [
    "## Choropleths of Antifragility GDP and Population cases <a name=\"gdp_plots\"></a>"
   ]
  },
  {
   "cell_type": "code",
   "execution_count": 20,
   "metadata": {},
   "outputs": [],
   "source": [
    "df = pd.read_csv('datasets_choroplets/choroplets_gdp_pop_af_food_trade_percountry.csv')\n",
    "df=df.rename(columns={'name':'CNTRY_NAME'})\n",
    "\n",
    "\n",
    "#Import shp file of the world and ignore Antarctica\n",
    "world = gpd.read_file('world_shapefiles/Longitude_Graticules_and_World_Countries_Boundaries-shp/99bfd9e7-bb42-4728-87b5-07f8c8ac631c2020328-1-1vef4ev.lu5nk.shp')\n",
    "world = world[world.CNTRY_NAME !='Antarctica']\n",
    "\n",
    "world_gpd_pop_af=pd.merge_ordered(world,df,on='CNTRY_NAME')"
   ]
  },
  {
   "cell_type": "code",
   "execution_count": 212,
   "metadata": {},
   "outputs": [],
   "source": [
    "missing_kwds={\"color\": \"lightgrey\",\"edgecolor\": \"black\",\"hatch\": \"///\",\"label\": \"Missing values\"}\n",
    "\n",
    "for index,antifrag in enumerate(world_gpd_pop_af.columns[3:]):\n",
    "    \n",
    "    fig,ax = plt.subplots(figsize=(20,10))\n",
    "    divider = make_axes_locatable(ax)\n",
    "    cax = divider.append_axes(\"right\",size=\"3%\",pad=0.1)\n",
    "    \n",
    "    vmin=world_gdp_pop_af.iloc[:,3:].min(numeric_only=True).min()\n",
    "    vmax=world_gdp_pop_af.iloc[:,3:].max(numeric_only=True).max()\n",
    "    \n",
    "    \n",
    "    world_gpd_pop_af.plot(column=antifrag,ax=ax,legend=True,cax=cax,missing_kwds=missing_kwds,vmin=vmin,vmax=vmax)\n",
    "    ax.set_title(antifrag,fontsize=30)\n",
    "    \n",
    "    savepath='choroplets_AF/gdp_population/'\n",
    "    if not os.path.exists(savepath):\n",
    "        os.makedirs(savepath)\n",
    "    plt.savefig(savepath+antifrag+'.png')\n",
    "    plt.close()"
   ]
  },
  {
   "cell_type": "markdown",
   "metadata": {},
   "source": [
    "# Choropleths of Antifragility distance cases <a name=\"distance_plots\"></a>\n"
   ]
  },
  {
   "cell_type": "code",
   "execution_count": 22,
   "metadata": {},
   "outputs": [],
   "source": [
    "df = pd.read_csv('normalization/distan_datasets/distances_af_percountry.csv')\n",
    "df=df.rename(columns={'Unnamed: 0':'CNTRY_NAME'})\n",
    "\n",
    "\n",
    "#Import shp file of the world and ignore Antarctica\n",
    "world = gpd.read_file('world_shapefiles/Longitude_Graticules_and_World_Countries_Boundaries-shp/99bfd9e7-bb42-4728-87b5-07f8c8ac631c2020328-1-1vef4ev.lu5nk.shp')\n",
    "world = world[world.CNTRY_NAME !='Antarctica']\n",
    "\n",
    "world_distance_af=pd.merge_ordered(world,df,on='CNTRY_NAME')"
   ]
  },
  {
   "cell_type": "code",
   "execution_count": 24,
   "metadata": {},
   "outputs": [],
   "source": [
    "missing_kwds={\"color\": \"lightgrey\",\"edgecolor\": \"black\",\"hatch\": \"///\",\"label\": \"Missing values\"}\n",
    "\n",
    "for index,antifrag in enumerate(world_distance_af.columns[3:]):\n",
    "    \n",
    "    fig,ax = plt.subplots(figsize=(20,10))\n",
    "    divider = make_axes_locatable(ax)\n",
    "    cax = divider.append_axes(\"right\",size=\"3%\",pad=0.1)\n",
    "    \n",
    "    vmin=world_distance_af.iloc[:,3:].min(numeric_only=True).min()\n",
    "    vmax=world_distance_af.iloc[:,3:].max(numeric_only=True).max()\n",
    "    \n",
    "    \n",
    "    world_distance_af.plot(column=antifrag,ax=ax,legend=True,cax=cax,missing_kwds=missing_kwds,vmin=vmin,vmax=vmax)\n",
    "    ax.set_title(antifrag,fontsize=30)\n",
    "    \n",
    "    savepath='choroplets_AF/distances/'\n",
    "    if not os.path.exists(savepath):\n",
    "        os.makedirs(savepath)\n",
    "    plt.savefig(savepath+antifrag+'.png')\n",
    "    plt.close()\n",
    "    "
   ]
  },
  {
   "cell_type": "code",
   "execution_count": null,
   "metadata": {},
   "outputs": [],
   "source": []
  }
 ],
 "metadata": {
  "kernelspec": {
   "display_name": "Python 3.7.4 64-bit ('networksenv': conda)",
   "language": "python",
   "name": "python37464bitnetworksenvconda6ef222c74f834badb29e932e4ae07cfb"
  },
  "language_info": {
   "codemirror_mode": {
    "name": "ipython",
    "version": 3
   },
   "file_extension": ".py",
   "mimetype": "text/x-python",
   "name": "python",
   "nbconvert_exporter": "python",
   "pygments_lexer": "ipython3",
   "version": "3.7.7"
  }
 },
 "nbformat": 4,
 "nbformat_minor": 2
}
