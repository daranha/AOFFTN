{
 "cells": [
  {
   "cell_type": "code",
   "execution_count": 17,
   "metadata": {},
   "outputs": [],
   "source": [
    "# %load ../firstcell.py\n",
    "%reload_ext autoreload\n",
    "%autoreload 2\n",
    "\n",
    "import numpy as np\n",
    "import pandas as pd\n",
    "import matplotlib.pyplot as plt\n",
    "import seaborn as sns\n",
    "sns.set()"
   ]
  },
  {
   "cell_type": "code",
   "execution_count": 18,
   "metadata": {},
   "outputs": [],
   "source": [
    "import json\n",
    "from pandas.io.json import json_normalize"
   ]
  },
  {
   "cell_type": "markdown",
   "metadata": {},
   "source": [
    "# About the data\n",
    "\n",
    "### Population\n",
    "World Bank population estimates are compiled from three main sources: (1) the United Nations Population Division’s World Population Prospects (WPP), (2) census reports and other publications from national statistical offices (NSOs), and (3) Eurostat Demographic Statistics, which collects data directly from European NSOs. The WPP is the primary source for World Bank population estimates because for many countries it provides the most reliable, comprehensive, and internally consistent population and demographic datasets.\n",
    "\n",
    "Population estimates are usually based on national population censuses. More countries conducted a census in the 2010 census round (2005–14) than in previous rounds, with about 93 percent of the estimated world population enumerated in that period. Recency and quality of a census and of complementary data available from vital registration systems or surveys are important for high quality population and demographic estimates.\n",
    "\n",
    "Errors and undercounting in censuses occur even in high-income countries; in some low- and middle-income countries the errors may be substantial. Census-year population estimates for low- and middle-income countries that lack reliable recent census data are provided by the United Nations Population Division. Those estimates are derived from demographic modeling based on a cohort component method, a standard method for estimating and projecting population that draws on fertility, mortality, and net migration data, often collected from sample surveys. A similar approach is used to calculate pre- and post-census (“intercensal”) estimates for all countries, even those whose census data are reliable\n",
    "\n",
    "###  GDP(current US$)\n",
    "GDP at purchaser's prices is the sum of gross value added by all resident producers in the economy plus any product taxes and minus any subsidies not included in the value of the products. It is calculated without making deductions for depreciation of fabricated assets or for depletion and degradation of natural resources. Data are in current U.S. dollars. Dollar figures for GDP are converted from domestic currencies using single year official exchange rates. For a few countries where the official exchange rate does not reflect the rate effectively applied to actual foreign exchange transactions, an alternative conversion factor is used."
   ]
  },
  {
   "cell_type": "code",
   "execution_count": 43,
   "metadata": {},
   "outputs": [],
   "source": [
    "#Retrieve world population per year and per country from the world bank.\n",
    "from urllib.request import urlretrieve\n",
    "\n",
    "time_range=(1986,2017)\n",
    "\n",
    "url='http://api.worldbank.org/v2/country/all/indicator/SP.POP.TOTL?date='+str(time_range[0])+\\\n",
    "':'+str(time_range[1])+'&per_page=8448&format=json'\n",
    "\n",
    "urlretrieve(url,'pop_country_year.json')"
   ]
  },
  {
   "cell_type": "code",
   "execution_count": 52,
   "metadata": {},
   "outputs": [
    {
     "data": {
      "text/plain": [
       "('GDP_country_year.json', <http.client.HTTPMessage at 0x7f4640e84c10>)"
      ]
     },
     "execution_count": 52,
     "metadata": {},
     "output_type": "execute_result"
    }
   ],
   "source": [
    "#Retrieve GDP per year and per country\n",
    "\n",
    "url='https://api.worldbank.org/v2/countries/all/indicators/NY.GDP.MKTP.CD?date='+str(time_range[0])\\\n",
    "+':'+str(time_range[1])+'&per_page=8448&format=json'\n",
    "\n",
    "urlretrieve(url,'GDP_country_year.json')"
   ]
  },
  {
   "cell_type": "code",
   "execution_count": 93,
   "metadata": {},
   "outputs": [],
   "source": [
    "with open('pop_country_year.json','r') as p,open('GDP_country_year.json','r') as g:\n",
    "    poplulation=json.load(p)\n",
    "    gross_domP=json.load(g) "
   ]
  },
  {
   "cell_type": "code",
   "execution_count": 83,
   "metadata": {},
   "outputs": [
    {
     "data": {
      "text/plain": [
       "{'page': 1,\n",
       " 'pages': 1,\n",
       " 'per_page': 8448,\n",
       " 'total': 8448,\n",
       " 'sourceid': '2',\n",
       " 'lastupdated': '2020-07-01'}"
      ]
     },
     "execution_count": 83,
     "metadata": {},
     "output_type": "execute_result"
    }
   ],
   "source": [
    "poplulation[0]"
   ]
  },
  {
   "cell_type": "code",
   "execution_count": 84,
   "metadata": {},
   "outputs": [
    {
     "data": {
      "text/plain": [
       "{'page': 1,\n",
       " 'pages': 1,\n",
       " 'per_page': 8448,\n",
       " 'total': 8448,\n",
       " 'sourceid': '2',\n",
       " 'lastupdated': '2020-07-01'}"
      ]
     },
     "execution_count": 84,
     "metadata": {},
     "output_type": "execute_result"
    }
   ],
   "source": [
    "gross_domP[0]"
   ]
  },
  {
   "cell_type": "code",
   "execution_count": 98,
   "metadata": {},
   "outputs": [],
   "source": [
    "pop_df=json_normalize(poplulation[1])\n",
    "gdp_df=json_normalize(gross_domP[1])"
   ]
  },
  {
   "cell_type": "code",
   "execution_count": 95,
   "metadata": {},
   "outputs": [
    {
     "name": "stdout",
     "output_type": "stream",
     "text": [
      "<class 'pandas.core.frame.DataFrame'>\n",
      "RangeIndex: 8448 entries, 0 to 8447\n",
      "Data columns (total 10 columns):\n",
      "countryiso3code    8448 non-null object\n",
      "date               8448 non-null object\n",
      "value              7627 non-null float64\n",
      "unit               8448 non-null object\n",
      "obs_status         8448 non-null object\n",
      "decimal            8448 non-null int64\n",
      "indicator.id       8448 non-null object\n",
      "indicator.value    8448 non-null object\n",
      "country.id         8448 non-null object\n",
      "country.value      8448 non-null object\n",
      "dtypes: float64(1), int64(1), object(8)\n",
      "memory usage: 660.1+ KB\n"
     ]
    }
   ],
   "source": [
    "gdp_df.info()"
   ]
  },
  {
   "cell_type": "code",
   "execution_count": 87,
   "metadata": {},
   "outputs": [
    {
     "name": "stdout",
     "output_type": "stream",
     "text": [
      "<class 'pandas.core.frame.DataFrame'>\n",
      "RangeIndex: 8448 entries, 0 to 8447\n",
      "Data columns (total 10 columns):\n",
      "countryiso3code    8448 non-null object\n",
      "date               8448 non-null object\n",
      "value              8387 non-null float64\n",
      "unit               8448 non-null object\n",
      "obs_status         8448 non-null object\n",
      "decimal            8448 non-null int64\n",
      "indicator.id       8448 non-null object\n",
      "indicator.value    8448 non-null object\n",
      "country.id         8448 non-null object\n",
      "country.value      8448 non-null object\n",
      "dtypes: float64(1), int64(1), object(8)\n",
      "memory usage: 660.1+ KB\n"
     ]
    }
   ],
   "source": [
    "pop_df.info()"
   ]
  },
  {
   "cell_type": "code",
   "execution_count": 88,
   "metadata": {},
   "outputs": [
    {
     "data": {
      "text/html": [
       "<div>\n",
       "<style scoped>\n",
       "    .dataframe tbody tr th:only-of-type {\n",
       "        vertical-align: middle;\n",
       "    }\n",
       "\n",
       "    .dataframe tbody tr th {\n",
       "        vertical-align: top;\n",
       "    }\n",
       "\n",
       "    .dataframe thead th {\n",
       "        text-align: right;\n",
       "    }\n",
       "</style>\n",
       "<table border=\"1\" class=\"dataframe\">\n",
       "  <thead>\n",
       "    <tr style=\"text-align: right;\">\n",
       "      <th></th>\n",
       "      <th>countryiso3code</th>\n",
       "      <th>date</th>\n",
       "      <th>unit</th>\n",
       "      <th>obs_status</th>\n",
       "      <th>indicator.id</th>\n",
       "      <th>indicator.value</th>\n",
       "      <th>country.id</th>\n",
       "      <th>country.value</th>\n",
       "    </tr>\n",
       "  </thead>\n",
       "  <tbody>\n",
       "    <tr>\n",
       "      <th>count</th>\n",
       "      <td>8448</td>\n",
       "      <td>8448</td>\n",
       "      <td>8448</td>\n",
       "      <td>8448</td>\n",
       "      <td>8448</td>\n",
       "      <td>8448</td>\n",
       "      <td>8448</td>\n",
       "      <td>8448</td>\n",
       "    </tr>\n",
       "    <tr>\n",
       "      <th>unique</th>\n",
       "      <td>260</td>\n",
       "      <td>32</td>\n",
       "      <td>1</td>\n",
       "      <td>1</td>\n",
       "      <td>1</td>\n",
       "      <td>1</td>\n",
       "      <td>264</td>\n",
       "      <td>264</td>\n",
       "    </tr>\n",
       "    <tr>\n",
       "      <th>top</th>\n",
       "      <td></td>\n",
       "      <td>2015</td>\n",
       "      <td></td>\n",
       "      <td></td>\n",
       "      <td>SP.POP.TOTL</td>\n",
       "      <td>Population, total</td>\n",
       "      <td>FR</td>\n",
       "      <td>Central African Republic</td>\n",
       "    </tr>\n",
       "    <tr>\n",
       "      <th>freq</th>\n",
       "      <td>160</td>\n",
       "      <td>264</td>\n",
       "      <td>8448</td>\n",
       "      <td>8448</td>\n",
       "      <td>8448</td>\n",
       "      <td>8448</td>\n",
       "      <td>32</td>\n",
       "      <td>32</td>\n",
       "    </tr>\n",
       "  </tbody>\n",
       "</table>\n",
       "</div>"
      ],
      "text/plain": [
       "       countryiso3code  date  unit obs_status indicator.id    indicator.value  \\\n",
       "count             8448  8448  8448       8448         8448               8448   \n",
       "unique             260    32     1          1            1                  1   \n",
       "top                     2015                   SP.POP.TOTL  Population, total   \n",
       "freq               160   264  8448       8448         8448               8448   \n",
       "\n",
       "       country.id             country.value  \n",
       "count        8448                      8448  \n",
       "unique        264                       264  \n",
       "top            FR  Central African Republic  \n",
       "freq           32                        32  "
      ]
     },
     "execution_count": 88,
     "metadata": {},
     "output_type": "execute_result"
    }
   ],
   "source": [
    "pop_df.describe(include=['object'])"
   ]
  },
  {
   "cell_type": "code",
   "execution_count": 89,
   "metadata": {},
   "outputs": [
    {
     "data": {
      "text/html": [
       "<div>\n",
       "<style scoped>\n",
       "    .dataframe tbody tr th:only-of-type {\n",
       "        vertical-align: middle;\n",
       "    }\n",
       "\n",
       "    .dataframe tbody tr th {\n",
       "        vertical-align: top;\n",
       "    }\n",
       "\n",
       "    .dataframe thead th {\n",
       "        text-align: right;\n",
       "    }\n",
       "</style>\n",
       "<table border=\"1\" class=\"dataframe\">\n",
       "  <thead>\n",
       "    <tr style=\"text-align: right;\">\n",
       "      <th></th>\n",
       "      <th>countryiso3code</th>\n",
       "      <th>date</th>\n",
       "      <th>unit</th>\n",
       "      <th>obs_status</th>\n",
       "      <th>indicator.id</th>\n",
       "      <th>indicator.value</th>\n",
       "      <th>country.id</th>\n",
       "      <th>country.value</th>\n",
       "    </tr>\n",
       "  </thead>\n",
       "  <tbody>\n",
       "    <tr>\n",
       "      <th>count</th>\n",
       "      <td>8448</td>\n",
       "      <td>8448</td>\n",
       "      <td>8448</td>\n",
       "      <td>8448</td>\n",
       "      <td>8448</td>\n",
       "      <td>8448</td>\n",
       "      <td>8448</td>\n",
       "      <td>8448</td>\n",
       "    </tr>\n",
       "    <tr>\n",
       "      <th>unique</th>\n",
       "      <td>260</td>\n",
       "      <td>32</td>\n",
       "      <td>1</td>\n",
       "      <td>1</td>\n",
       "      <td>1</td>\n",
       "      <td>1</td>\n",
       "      <td>264</td>\n",
       "      <td>264</td>\n",
       "    </tr>\n",
       "    <tr>\n",
       "      <th>top</th>\n",
       "      <td></td>\n",
       "      <td>2015</td>\n",
       "      <td></td>\n",
       "      <td></td>\n",
       "      <td>NY.GDP.MKTP.CD</td>\n",
       "      <td>GDP (current US$)</td>\n",
       "      <td>FR</td>\n",
       "      <td>Central African Republic</td>\n",
       "    </tr>\n",
       "    <tr>\n",
       "      <th>freq</th>\n",
       "      <td>160</td>\n",
       "      <td>264</td>\n",
       "      <td>8448</td>\n",
       "      <td>8448</td>\n",
       "      <td>8448</td>\n",
       "      <td>8448</td>\n",
       "      <td>32</td>\n",
       "      <td>32</td>\n",
       "    </tr>\n",
       "  </tbody>\n",
       "</table>\n",
       "</div>"
      ],
      "text/plain": [
       "       countryiso3code  date  unit obs_status    indicator.id  \\\n",
       "count             8448  8448  8448       8448            8448   \n",
       "unique             260    32     1          1               1   \n",
       "top                     2015                   NY.GDP.MKTP.CD   \n",
       "freq               160   264  8448       8448            8448   \n",
       "\n",
       "          indicator.value country.id             country.value  \n",
       "count                8448       8448                      8448  \n",
       "unique                  1        264                       264  \n",
       "top     GDP (current US$)         FR  Central African Republic  \n",
       "freq                 8448         32                        32  "
      ]
     },
     "execution_count": 89,
     "metadata": {},
     "output_type": "execute_result"
    }
   ],
   "source": [
    "gdp_df.describe(include=['object'])"
   ]
  },
  {
   "cell_type": "code",
   "execution_count": 90,
   "metadata": {},
   "outputs": [
    {
     "data": {
      "text/plain": [
       "array(['ARB', 'CSS', 'CEB', 'EAR', 'EAS', 'EAP', 'TEA', 'EMU', 'ECS',\n",
       "       'ECA', 'TEC', 'EUU', 'FCS', 'HPC', '', 'IBD', 'IBT', 'IDB', 'IDX',\n",
       "       'IDA', 'LTE', 'LCN', 'LAC', 'TLA', 'LDC', 'LMY', 'MEA', 'MNA',\n",
       "       'TMN', 'MIC', 'NAC', 'OED', 'OSS', 'PSS', 'PST', 'PRE', 'SST',\n",
       "       'SAS', 'TSA', 'SSF', 'SSA', 'TSS', 'WLD', 'AFG', 'ALB', 'DZA',\n",
       "       'ASM', 'AND', 'AGO', 'ATG', 'ARG', 'ARM', 'ABW', 'AUS', 'AUT',\n",
       "       'AZE', 'BHS', 'BHR', 'BGD', 'BRB', 'BLR', 'BEL', 'BLZ', 'BEN',\n",
       "       'BMU', 'BTN', 'BOL', 'BIH', 'BWA', 'BRA', 'VGB', 'BRN', 'BGR',\n",
       "       'BFA', 'BDI', 'CPV', 'KHM', 'CMR', 'CAN', 'CYM', 'CAF', 'TCD',\n",
       "       'CHI', 'CHL', 'CHN', 'COL', 'COM', 'COD', 'COG', 'CRI', 'CIV',\n",
       "       'HRV', 'CUB', 'CUW', 'CYP', 'CZE', 'DNK', 'DJI', 'DMA', 'DOM',\n",
       "       'ECU', 'EGY', 'SLV', 'GNQ', 'ERI', 'EST', 'SWZ', 'ETH', 'FRO',\n",
       "       'FJI', 'FIN', 'FRA', 'PYF', 'GAB', 'GMB', 'GEO', 'DEU', 'GHA',\n",
       "       'GIB', 'GRC', 'GRL', 'GRD', 'GUM', 'GTM', 'GIN', 'GNB', 'GUY',\n",
       "       'HTI', 'HND', 'HKG', 'HUN', 'ISL', 'IND', 'IDN', 'IRN', 'IRQ',\n",
       "       'IRL', 'IMN', 'ISR', 'ITA', 'JAM', 'JPN', 'JOR', 'KAZ', 'KEN',\n",
       "       'KIR', 'PRK', 'KOR', 'XKX', 'KWT', 'KGZ', 'LAO', 'LVA', 'LBN',\n",
       "       'LSO', 'LBR', 'LBY', 'LIE', 'LTU', 'LUX', 'MAC', 'MDG', 'MWI',\n",
       "       'MYS', 'MDV', 'MLI', 'MLT', 'MHL', 'MRT', 'MUS', 'MEX', 'FSM',\n",
       "       'MDA', 'MCO', 'MNG', 'MNE', 'MAR', 'MOZ', 'MMR', 'NAM', 'NRU',\n",
       "       'NPL', 'NLD', 'NCL', 'NZL', 'NIC', 'NER', 'NGA', 'MKD', 'MNP',\n",
       "       'NOR', 'OMN', 'PAK', 'PLW', 'PAN', 'PNG', 'PRY', 'PER', 'PHL',\n",
       "       'POL', 'PRT', 'PRI', 'QAT', 'ROU', 'RUS', 'RWA', 'WSM', 'SMR',\n",
       "       'STP', 'SAU', 'SEN', 'SRB', 'SYC', 'SLE', 'SGP', 'SXM', 'SVK',\n",
       "       'SVN', 'SLB', 'SOM', 'ZAF', 'SSD', 'ESP', 'LKA', 'KNA', 'LCA',\n",
       "       'MAF', 'VCT', 'SDN', 'SUR', 'SWE', 'CHE', 'SYR', 'TJK', 'TZA',\n",
       "       'THA', 'TLS', 'TGO', 'TON', 'TTO', 'TUN', 'TUR', 'TKM', 'TCA',\n",
       "       'TUV', 'UGA', 'UKR', 'ARE', 'GBR', 'USA', 'URY', 'UZB', 'VUT',\n",
       "       'VEN', 'VNM', 'VIR', 'PSE', 'YEM', 'ZMB', 'ZWE'], dtype=object)"
      ]
     },
     "execution_count": 90,
     "metadata": {},
     "output_type": "execute_result"
    }
   ],
   "source": [
    "gdp_df['countryiso3code'].unique()"
   ]
  },
  {
   "cell_type": "code",
   "execution_count": 99,
   "metadata": {},
   "outputs": [],
   "source": [
    "#filtering only countries\n",
    "idxg=np.where(gdp_df['country.value'].unique()=='World')[0][0]+1\n",
    "idxp=np.where(pop_df['country.value'].unique()=='World')[0][0]+1\n",
    "\n",
    "popfiltering_set= pop_df['country.value'].unique()[idxp:]\n",
    "gfiltering_set=gdp_df['country.value'].unique()[idxg:]\n",
    "\n",
    "cols_touse=['countryiso3code','date','value','indicator.value','country.value']\n",
    "\n",
    "gdp_df=gdp_df[gdp_df['country.value'].isin(gfiltering_set)].reset_index(drop=True)[cols_touse]\n",
    "pop_df=pop_df[pop_df['country.value'].isin(popfiltering_set)].reset_index(drop=True)[cols_touse]"
   ]
  },
  {
   "cell_type": "code",
   "execution_count": 104,
   "metadata": {},
   "outputs": [],
   "source": [
    "# gdp_df.to_csv('GDP_filtered.csv')\n",
    "# pop_df.to_csv('Population_filtered.csv')"
   ]
  },
  {
   "cell_type": "code",
   "execution_count": 79,
   "metadata": {},
   "outputs": [
    {
     "name": "stdout",
     "output_type": "stream",
     "text": [
      "True\n",
      "True\n"
     ]
    }
   ],
   "source": [
    "#checking that there is the same number of iso3codes throughout the years in both datasets\n",
    "l1=pop_df.date.unique()\n",
    "s=np.zeros(len(l1))\n",
    "for i,year in enumerate(l1):\n",
    "    count=pop_df[pop_df.date==str(year)]['countryiso3code'].unique()\n",
    "    s[i] = len(count)\n",
    "    \n",
    "print(np.all(s==217))\n",
    "\n",
    "l2=gdp_df.date.unique()\n",
    "s=np.zeros(len(l2))\n",
    "for i,year in enumerate(gdp_df.date.unique()):\n",
    "    count=gdp_df[pop_df.date==str(year)]['countryiso3code'].unique()\n",
    "    s[i]=len(count)\n",
    "    \n",
    "print(np.all(s==217))\n"
   ]
  },
  {
   "cell_type": "code",
   "execution_count": 75,
   "metadata": {},
   "outputs": [
    {
     "data": {
      "text/plain": [
       "True"
      ]
     },
     "execution_count": 75,
     "metadata": {},
     "output_type": "execute_result"
    }
   ],
   "source": [
    "#same country names in both datasets\n",
    "v1=gdp_df['country.value'].unique()\n",
    "v2=pop_df['country.value'].unique()\n",
    "np.all(v1==v2)"
   ]
  }
 ],
 "metadata": {
  "kernelspec": {
   "display_name": "Python 3.7.5 64-bit ('toughenv': conda)",
   "language": "python",
   "name": "python37564bittoughenvconda10c22ec9b2ab438aab78bd3ff93ae9c0"
  },
  "language_info": {
   "codemirror_mode": {
    "name": "ipython",
    "version": 3
   },
   "file_extension": ".py",
   "mimetype": "text/x-python",
   "name": "python",
   "nbconvert_exporter": "python",
   "pygments_lexer": "ipython3",
   "version": "3.7.7"
  }
 },
 "nbformat": 4,
 "nbformat_minor": 2
}
